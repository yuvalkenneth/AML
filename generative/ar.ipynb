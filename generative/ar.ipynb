{
 "cells": [
  {
   "cell_type": "markdown",
   "source": [
    "from google.colab import drive\n",
    "drive.mount('/content/drive/')\n",
    "%cd /content/drive/My Drive/\n",
    "from google.colab import files\n",
    "files.upload()"
   ],
   "metadata": {
    "id": "_48DAlyvIxsG"
   }
  },
  {
   "cell_type": "code",
   "source": [
    "from google.colab import drive\n",
    "drive.mount('/content/drive/')\n",
    "%cd /content/drive/My Drive/\n",
    "from google.colab import files\n",
    "files.upload()"
   ],
   "metadata": {
    "id": "iUz93WwQRHne"
   },
   "execution_count": null,
   "outputs": []
  },
  {
   "cell_type": "code",
   "execution_count": null,
   "outputs": [],
   "source": [
    "import os.path\n",
    "from torch.nn import functional as F\n",
    "import functorch.dim\n",
    "import numpy as np\n",
    "import torch\n",
    "from torch.utils.data import Dataset\n",
    "\n",
    "import mingpt.bpe\n",
    "from mingpt.model import GPT\n",
    "from mingpt.trainer import Trainer\n",
    "\n",
    "TRAIN_ITERATIONS = 1000\n",
    "\n",
    "TRAIN_BATCH_SIZE = 32\n",
    "\n",
    "VOCAB_SIZE = 50257\n",
    "BLOCK_SIZE = 64\n",
    "LR = 5e-4"
   ],
   "metadata": {
    "collapsed": false
   }
  },
  {
   "cell_type": "code",
   "execution_count": null,
   "outputs": [],
   "source": [
    "\n",
    "def init_model():\n",
    "    model_config = GPT.get_default_config()\n",
    "    model_config.model_type = 'gpt-nano'\n",
    "    model_config.vocab_size = VOCAB_SIZE\n",
    "    model_config.block_size = BLOCK_SIZE\n",
    "    gpt = GPT(model_config)\n",
    "    return gpt\n",
    "\n",
    "\n",
    "def init_trainer(model_to_train, data):\n",
    "    train_config = Trainer.get_default_config()\n",
    "    train_config.learning_rate = LR\n",
    "    train_config.max_iters = TRAIN_ITERATIONS\n",
    "    train_config.batch_size = TRAIN_BATCH_SIZE\n",
    "\n",
    "    def batch_end_callback(train):\n",
    "        if train.iter_num % 100 == 0:\n",
    "            print(\n",
    "                f\"iter_dt {train.iter_dt * 1000:.2f}ms; iter {train.iter_num}: train loss \"\n",
    "                f\"{train.loss.item():.5f}\")\n",
    "\n",
    "    trainer = Trainer(train_config, model_to_train, data)\n",
    "    trainer.set_callback('on_batch_end', batch_end_callback)\n",
    "    return trainer"
   ],
   "metadata": {
    "collapsed": false
   }
  },
  {
   "cell_type": "code",
   "execution_count": null,
   "outputs": [],
   "source": [
    "\n",
    "\n",
    "def data_by_blocks(data, block_size):\n",
    "    i = 0\n",
    "    x = []\n",
    "    y = []\n",
    "    while i < len(data) - block_size:\n",
    "        x.append(data[i:i + block_size])\n",
    "        y.append(data[i + 1:i + block_size + 1])\n",
    "        i += 1\n",
    "    return x, y\n",
    "\n",
    "\n",
    "def clean_string(input_string):\n",
    "    output_string = \"\"\n",
    "    for i in input_string:\n",
    "        if i.isalnum() or i == \" \" or i in \"!(),.:;-\":\n",
    "            output_string += i.lower()\n",
    "    output_string = \" \".join(output_string.split())\n",
    "    return output_string\n",
    "\n",
    "\n",
    "class TrainSet(Dataset):\n",
    "    def __init__(self, tokens, labels):\n",
    "        self.tokens = tokens\n",
    "        self.labels = labels\n",
    "\n",
    "    def __len__(self):\n",
    "        return len(self.tokens)\n",
    "\n",
    "    def __getitem__(self, idx):\n",
    "        return self.tokens[idx], self.labels[idx]\n",
    "\n",
    "\n",
    "def perform_inversion(ar, sentence, embedding_dim, iterations=20000):\n",
    "    model.eval()\n",
    "    for param in ar.parameters():\n",
    "        param.requires_grad = False\n",
    "    vec = np.random.uniform(0, VOCAB_SIZE, (1, len(sentence[0]), embedding_dim))\n",
    "    input_vec = torch.tensor(vec, dtype=torch.float, requires_grad=True)\n",
    "    optimizer = torch.optim.Adam([input_vec], lr=1e-3)\n",
    "\n",
    "    one_hot = torch.zeros(len(sentence[0]), VOCAB_SIZE)\n",
    "    for i in range(len(sentence[0])):\n",
    "        one_hot[i][sentence[0][i]] = 1\n",
    "    for _ in range(2000):\n",
    "        optimizer.zero_grad()\n",
    "        criterion = torch.nn.CrossEntropyLoss()\n",
    "        logits, loss = ar.forward(None, sentence, input_vec)\n",
    "        logits = F.softmax(logits, dim=2)\n",
    "        loss = criterion(logits[0], one_hot)\n",
    "        loss.backward()\n",
    "        optimizer.step()\n",
    "\n",
    "    return input_vec\n"
   ],
   "metadata": {
    "collapsed": false
   }
  },
  {
   "cell_type": "code",
   "execution_count": null,
   "outputs": [],
   "source": [
    "\n",
    "if __name__ == '__main__':\n",
    "    with open(\"alice_in_wonderland.txt\") as f:\n",
    "        dataset = f.read()\n",
    "\n",
    "    dataset = clean_string(dataset)\n",
    "    e = mingpt.bpe.BPETokenizer()\n",
    "    tokenized_data = e(dataset)\n",
    "    vocab_size = tokenized_data.unique().shape[0]\n",
    "    x, y = data_by_blocks(tokenized_data[0], BLOCK_SIZE)\n",
    "    x = torch.stack(x)\n",
    "    y = torch.stack(y)\n",
    "    dataset = TrainSet(x, y)\n",
    "    # dataset = TrainSet(x, y)\n",
    "\n",
    "    model = init_model()\n",
    "    model_trainer = init_trainer(model, dataset)\n",
    "    if os.path.exists(\"ar_model_weights.pth\"):\n",
    "        model.load_state_dict(torch.load(\"ar_model_weights.pth\", map_location=torch.device('cpu')))\n",
    "    else:\n",
    "        model_trainer.run()\n",
    "\n",
    "    # torch.save(model.state_dict(), 'ar_model_weights.pth')"
   ],
   "metadata": {
    "collapsed": false
   }
  },
  {
   "cell_type": "code",
   "execution_count": null,
   "outputs": [],
   "source": [
    "\n",
    "    sentence_tokens = e(\"I am a little squirrel holding a walnut\")\n",
    "    inp = perform_inversion(model, sentence_tokens, 48, 1000)\n",
    "    logits, loss = model.forward(None, None, inp)\n",
    "    tokenized_answer = torch.argmax(logits, dim=2)\n",
    "    prompt = e(\"I am a little\")\n",
    "    targets = e(\"am a little tea\")\n",
    "    # prompt = prompt.to(\"cuda\")\n",
    "    model.forward(prompt, targets)\n",
    "    cypher = model.generate(prompt, 11)\n",
    "\n",
    "    for i in cypher:\n",
    "        print(e.decode(i.cpu().squeeze()))\n",
    "    target = e(\"I am a little squirrel holding a walnut\")\n",
    "\n",
    "    print(loss)\n",
    "\n",
    "\n",
    "\n"
   ],
   "metadata": {
    "collapsed": false
   }
  }
 ],
 "metadata": {
  "kernelspec": {
   "display_name": "Python 3",
   "language": "python",
   "name": "python3"
  },
  "language_info": {
   "codemirror_mode": {
    "name": "ipython",
    "version": 2
   },
   "file_extension": ".py",
   "mimetype": "text/x-python",
   "name": "python",
   "nbconvert_exporter": "python",
   "pygments_lexer": "ipython2",
   "version": "2.7.6"
  },
  "colab": {
   "provenance": [],
   "gpuType": "T4"
  },
  "accelerator": "GPU",
  "gpuClass": "standard"
 },
 "nbformat": 4,
 "nbformat_minor": 0
}
