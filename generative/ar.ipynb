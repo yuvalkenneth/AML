{
 "cells": [
  {
   "cell_type": "code",
   "execution_count": null,
   "metadata": {
    "collapsed": true
   },
   "outputs": [],
   "source": []
  },
  {
   "cell_type": "code",
   "execution_count": null,
   "outputs": [],
   "source": [
    "import torch\n",
    "from mingpt.model import GPT\n",
    "from mingpt.trainer import Trainer\n",
    "import mingpt.bpe\n",
    "import tqdm\n",
    "\n",
    "TRAIN_ITERATIONS = 1000\n",
    "\n",
    "TRAIN_BATCH_SIZE = 32\n",
    "\n",
    "VOCAB_SIZE = 50257\n",
    "BLOCK_SIZE = 64\n",
    "LR = 5e-4\n",
    "\n",
    "\n",
    "def init_model():\n",
    "    model_config = GPT.get_default_config()\n",
    "    model_config.model_type = 'gpt-nano'\n",
    "    model_config.vocab_size = VOCAB_SIZE  # TODO check if correct\n",
    "    model_config.block_size = BLOCK_SIZE\n",
    "    return GPT(model_config)\n"
   ],
   "metadata": {
    "collapsed": false
   }
  },
  {
   "cell_type": "code",
   "execution_count": null,
   "outputs": [],
   "source": [
    "\n",
    "def init_trainer(model_to_train, data):\n",
    "    train_config = Trainer.get_default_config()\n",
    "    train_config.learning_rate = LR\n",
    "    train_config.max_iters = TRAIN_ITERATIONS\n",
    "    train_config.batch_size = TRAIN_BATCH_SIZE\n",
    "    return Trainer(train_config, model_to_train, data)"
   ],
   "metadata": {
    "collapsed": false
   }
  },
  {
   "cell_type": "code",
   "execution_count": null,
   "outputs": [],
   "source": [
    "\n",
    "\n",
    "if __name__ == '__main__':\n",
    "    with open(\"alice_in_wonderland.txt\") as f:\n",
    "        dataset = f.read()\n",
    "    # data = data.replace(\"\\n\", \" \")\n",
    "    e = mingpt.bpe.BPETokenizer()\n",
    "    tokenized_data = e(dataset)\n",
    "    model = init_model()\n",
    "    trainer = init_trainer(model, tokenized_data)\n",
    "    trainer.run()\n"
   ],
   "metadata": {
    "collapsed": false
   }
  }
 ],
 "metadata": {
  "kernelspec": {
   "display_name": "Python 3",
   "language": "python",
   "name": "python3"
  },
  "language_info": {
   "codemirror_mode": {
    "name": "ipython",
    "version": 2
   },
   "file_extension": ".py",
   "mimetype": "text/x-python",
   "name": "python",
   "nbconvert_exporter": "python",
   "pygments_lexer": "ipython2",
   "version": "2.7.6"
  }
 },
 "nbformat": 4,
 "nbformat_minor": 0
}
