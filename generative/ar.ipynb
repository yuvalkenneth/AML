{
 "cells": [
  {
   "cell_type": "code",
   "execution_count": null,
   "metadata": {
    "collapsed": true
   },
   "outputs": [],
   "source": [
    "import torch\n",
    "from torch.utils.data import Dataset, TensorDataset\n",
    "from mingpt.model import GPT\n",
    "from mingpt.trainer import Trainer\n",
    "import mingpt.bpe\n",
    "import tqdm\n",
    "\n",
    "TRAIN_ITERATIONS = 1000\n",
    "\n",
    "TRAIN_BATCH_SIZE = 32\n",
    "\n",
    "VOCAB_SIZE = 50257\n",
    "BLOCK_SIZE = 64\n",
    "LR = 5e-4"
   ]
  },
  {
   "cell_type": "code",
   "execution_count": null,
   "outputs": [],
   "source": [
    "def init_trainer(model_to_train, data):\n",
    "    train_config = Trainer.get_default_config()\n",
    "    train_config.learning_rate = LR\n",
    "    train_config.max_iters = TRAIN_ITERATIONS\n",
    "    train_config.batch_size = TRAIN_BATCH_SIZE\n",
    "\n",
    "    def batch_end_callback(train):\n",
    "        if train.iter_num % 100 == 0:\n",
    "            print(\n",
    "                f\"iter_dt {train.iter_dt * 1000:.2f}ms; iter {train.iter_num}: train loss \"\n",
    "                f\"{train.loss.item():.5f}\")\n",
    "\n",
    "    trainer = Trainer(train_config, model_to_train, data)\n",
    "    trainer.set_callback('on_batch_end', batch_end_callback)\n",
    "    return trainer\n",
    "\n",
    "\n",
    "def data_by_blocks(data, block_size):\n",
    "    return [data[i:i + block_size] for i in range(len(data) - block_size - 1)], [data[i + block_size + 1]\n",
    "                                                                                 for i in range(len(data) - block_size - 1)]\n"
   ],
   "metadata": {
    "collapsed": false
   }
  },
  {
   "cell_type": "code",
   "execution_count": null,
   "outputs": [],
   "source": [
    "class TrainSet(Dataset):\n",
    "    def __init__(self, tokens, labels):\n",
    "        self.tokens = tokens\n",
    "        self.labels = labels\n",
    "\n",
    "    def __len__(self):\n",
    "        return len(self.tokens)\n",
    "\n",
    "    def __getitem__(self, idx):\n",
    "        return self.tokens[idx], self.labels[idx]"
   ],
   "metadata": {
    "collapsed": false
   }
  },
  {
   "cell_type": "code",
   "execution_count": null,
   "outputs": [],
   "source": [
    "if __name__ == '__main__':\n",
    "    with open(\"alice_in_wonderland.txt\") as f:\n",
    "        dataset = f.read()\n",
    "    # data = data.replace(\"\\n\", \" \")\n",
    "    e = mingpt.bpe.BPETokenizer()\n",
    "    tokenized_data = e(dataset)\n",
    "\n",
    "    x, y = data_by_blocks(tokenized_data[0], BLOCK_SIZE)\n",
    "    dataset = TrainSet(x, y)\n",
    "    model = init_model()\n",
    "    model_trainer = init_trainer(model, dataset)\n",
    "    model_trainer.run()\n",
    "\n"
   ],
   "metadata": {
    "collapsed": false
   }
  }
 ],
 "metadata": {
  "kernelspec": {
   "display_name": "Python 3",
   "language": "python",
   "name": "python3"
  },
  "language_info": {
   "codemirror_mode": {
    "name": "ipython",
    "version": 2
   },
   "file_extension": ".py",
   "mimetype": "text/x-python",
   "name": "python",
   "nbconvert_exporter": "python",
   "pygments_lexer": "ipython2",
   "version": "2.7.6"
  }
 },
 "nbformat": 4,
 "nbformat_minor": 0
}
