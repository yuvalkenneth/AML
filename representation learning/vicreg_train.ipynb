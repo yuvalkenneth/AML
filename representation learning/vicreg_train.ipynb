{
 "cells": [
  {
   "cell_type": "code",
   "execution_count": null,
   "metadata": {
    "collapsed": true
   },
   "outputs": [],
   "source": [
    "import torch\n",
    "import torch.nn.functional as F\n",
    "import torchvision\n",
    "import torchvision.transforms as transforms\n",
    "import matplotlib.pyplot as plt\n",
    "import plotly.express as px\n",
    "import augmentations\n",
    "from models import Encoder, Projector\n",
    "\n",
    "WEIGHT_DECAY = 10 ** -6\n",
    "\n",
    "BETAS = (0.9, 0.999)\n",
    "\n",
    "GAMMA = 1\n",
    "EPSILON = 10 ** -4\n",
    "LAMBDA = 25\n",
    "MU = 25\n",
    "NU = 1\n",
    "PROJ_DIM = 512\n",
    "ENCODER_DIM = 128\n",
    "BATCH_SIZE = 256\n",
    "LR = 3 * (10 ** -4)\n",
    "EPOCHS = 40\n"
   ]
  },
  {
   "cell_type": "code",
   "execution_count": null,
   "outputs": [],
   "source": [
    "\n",
    "def invariance_term(x, y):\n",
    "    return F.mse_loss(x, y, reduction='mean')\n",
    "\n",
    "\n",
    "def variance_term(x):\n",
    "    sigma_j = torch.var(x, dim=0)\n",
    "    return F.hinge_embedding_loss(sigma_j, target=torch.zeros_like(x) - 1, margin=GAMMA, reduction='mean')\n",
    "\n",
    "\n",
    "def covariance_term(x):\n",
    "    batch_size = x.shape[0]\n",
    "    dim = x.shape[1]\n",
    "    x_hat = torch.mean(x, dim=0)\n",
    "    y = (x - x_hat).view(batch_size, dim, 1)\n",
    "    c_z = torch.sum(torch.matmul(y, y.transpose(1, 2)), dim=0) / (batch_size - 1)\n",
    "    c_z.diagonal().zero_()\n",
    "    return torch.sum(torch.square(c_z)) / dim"
   ],
   "metadata": {
    "collapsed": false
   }
  },
  {
   "cell_type": "code",
   "execution_count": null,
   "outputs": [],
   "source": [
    "\n",
    "\n",
    "def vic_train(encoder, projector, data, optimizer):\n",
    "    encoder.train()\n",
    "    projector.train()\n",
    "    for epoch in range(EPOCHS):\n",
    "        for images, labels in data:\n",
    "            optimizer.zero_grad()\n",
    "            aug1 = torch.stack([augmentations.train_transform(image) for image in images])\n",
    "            aug2 = torch.stack([augmentations.train_transform(image) for image in images])\n",
    "            z = projector(encoder.encode(aug1))\n",
    "            z_hat = projector(encoder.encode(aug2))\n",
    "            invariance = invariance_term(z, z_hat)\n",
    "            v_z = variance_term(z)\n",
    "            v_z_hat = variance_term(z_hat)\n",
    "            cov_z = covariance_term(z)\n",
    "            cov_z_hat = covariance_term(z_hat)\n",
    "            loss = LAMBDA * invariance + MU * (v_z + v_z_hat) + NU * (cov_z + cov_z_hat)\n",
    "            loss.backward()\n",
    "            optimizer.step()\n",
    "            invariance_loss.append(invariance.item())\n",
    "            variance_loss.append((v_z + v_z_hat).item())\n",
    "            covariance_loss.append((cov_z + cov_z_hat).item())\n",
    "    return invariance_loss, variance_loss, covariance_loss\n",
    "\n",
    "\n",
    "def test_encoder(encoder, data):\n",
    "    encoder.eval()\n",
    "    for epoch in range(EPOCHS):\n",
    "        for images, labels in data:\n",
    "            aug1 = torch.stack([augmentations.test_transform(image) for image in images])\n",
    "            aug2 = torch.stack([augmentations.test_transform(image) for image in images])\n",
    "            z = encoder.encode(aug1)\n",
    "            z_hat = encoder.encode(aug2)\n",
    "            invariance = invariance_term(z, z_hat)\n",
    "            v_z = variance_term(z)\n",
    "            v_z_hat = variance_term(z_hat)\n",
    "            cov_z = covariance_term(z)\n",
    "            cov_z_hat = covariance_term(z_hat)\n",
    "            loss = LAMBDA * invariance + MU * (v_z + v_z_hat) + NU * (cov_z + cov_z_hat)\n",
    "        invariance_loss.append(invariance.item())\n",
    "        variance_loss.append((v_z + v_z_hat).item())\n",
    "        covariance_loss.append((cov_z + cov_z_hat).item())\n",
    "    return invariance_loss, variance_loss, covariance_loss\n"
   ],
   "metadata": {
    "collapsed": false
   }
  },
  {
   "cell_type": "code",
   "execution_count": null,
   "outputs": [],
   "source": [
    "\n",
    "if __name__ == '__main__':\n",
    "    transform = transforms.Compose(\n",
    "        [transforms.ToTensor()])\n",
    "    trainset = torchvision.datasets.CIFAR10(root='./data', train=True, download=True, transform=transform)\n",
    "    trainloader = torch.utils.data.DataLoader(trainset, batch_size=BATCH_SIZE, shuffle=True, num_workers=2)\n",
    "    testset = torchvision.datasets.CIFAR10(root='./data', train=False, download=True, transform=transform)\n",
    "    testloader = torch.utils.data.DataLoader(testset, batch_size=BATCH_SIZE, shuffle=False, num_workers=2)\n",
    "    device = torch.device(\"cuda:0\" if torch.cuda.is_available() else \"cpu\")\n",
    "    enc = Encoder(D=ENCODER_DIM, device=device)\n",
    "    proj = Projector(D=enc.fc[2].out_features, proj_dim=PROJ_DIM)\n",
    "    optim = torch.optim.Adam(list(enc.parameters()) + list(proj.parameters()), lr=LR, betas=BETAS,\n",
    "                             weight_decay=WEIGHT_DECAY)\n",
    "    invariance_loss, variance_loss, covariance_loss = vic_train(enc, proj, trainloader, optim)\n",
    "    test_invariance_loss, test_variance_loss, test_covariance_loss = test_encoder(enc, testloader)\n",
    "    fig1 = px.line(x=range(len(invariance_loss)), y=invariance_loss, title='Invariance Loss')\n",
    "    fig1.add_scatter(x=range(EPOCHS), y=test_invariance_loss, name='Test')\n",
    "    fig1.show()\n",
    "    fig2 = px.line(x=range(len(variance_loss)), y=variance_loss, title='Variance Loss')\n",
    "    fig2.add_scatter(x=range(EPOCHS), y=test_variance_loss, name='Test')\n",
    "    fig2.show()\n",
    "    fig3 = px.line(x=range(len(covariance_loss)), y=covariance_loss, title='Covariance Loss')\n",
    "    fig3.add_scatter(x=range(EPOCHS), y=test_covariance_loss, name='Test')\n",
    "    fig3.show()"
   ],
   "metadata": {
    "collapsed": false
   }
  }
 ],
 "metadata": {
  "kernelspec": {
   "display_name": "Python 3",
   "language": "python",
   "name": "python3"
  },
  "language_info": {
   "codemirror_mode": {
    "name": "ipython",
    "version": 2
   },
   "file_extension": ".py",
   "mimetype": "text/x-python",
   "name": "python",
   "nbconvert_exporter": "python",
   "pygments_lexer": "ipython2",
   "version": "2.7.6"
  }
 },
 "nbformat": 4,
 "nbformat_minor": 0
}
